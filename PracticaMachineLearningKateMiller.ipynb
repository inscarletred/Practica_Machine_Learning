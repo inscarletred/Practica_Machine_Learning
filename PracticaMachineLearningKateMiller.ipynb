{
 "cells": [
  {
   "cell_type": "code",
   "execution_count": 23,
   "id": "eed3f95c",
   "metadata": {},
   "outputs": [],
   "source": [
    "import pandas as pd"
   ]
  },
  {
   "cell_type": "code",
   "execution_count": 44,
   "id": "31bdbe23",
   "metadata": {},
   "outputs": [],
   "source": [
    "import warnings\n",
    "warnings.filterwarnings('ignore')"
   ]
  },
  {
   "cell_type": "code",
   "execution_count": 24,
   "id": "69416e96",
   "metadata": {},
   "outputs": [],
   "source": [
    "airbnb = pd.read_csv(\"C:\\\\Users\\\\katel\\\\Downloads\\\\airbnb-listings.csv\", delimiter=';')"
   ]
  },
  {
   "cell_type": "code",
   "execution_count": 25,
   "id": "31a8c59d",
   "metadata": {},
   "outputs": [
    {
     "data": {
      "text/plain": [
       "<bound method NDFrame.head of              ID                            Listing Url       Scrape ID  \\\n",
       "0      15141125  https://www.airbnb.com/rooms/15141125  20170407214119   \n",
       "1       9470166   https://www.airbnb.com/rooms/9470166  20170407214119   \n",
       "2      17444981  https://www.airbnb.com/rooms/17444981  20170407214119   \n",
       "3       3284565   https://www.airbnb.com/rooms/3284565  20170407214119   \n",
       "4        499911    https://www.airbnb.com/rooms/499911  20170407214119   \n",
       "...         ...                                    ...             ...   \n",
       "14775    684744    https://www.airbnb.com/rooms/684744  20170407214119   \n",
       "14776  14770511  https://www.airbnb.com/rooms/14770511  20170407214119   \n",
       "14777   6605890   https://www.airbnb.com/rooms/6605890  20170407214119   \n",
       "14778  12272825  https://www.airbnb.com/rooms/12272825  20170407214119   \n",
       "14779  13900181  https://www.airbnb.com/rooms/13900181  20170502172350   \n",
       "\n",
       "      Last Scraped                                 Name  \\\n",
       "0       2017-04-08           Panoramic charming studio!   \n",
       "1       2017-04-08  Comfortable penthouse in the center   \n",
       "2       2017-04-08         Cosy Apartment SOL/LA LATINA   \n",
       "3       2017-04-08        Alquiler Estudio Nuevo Madrid   \n",
       "4       2017-04-08  2 bedroom apartment downtown Madrid   \n",
       "...            ...                                  ...   \n",
       "14775   2017-04-08   PRADO MUSEUM VIEW APARTMENT MADRID   \n",
       "14776   2017-04-08     Big & Cute Room in Madrid Centre   \n",
       "14777   2017-04-08     City Center Las Letras Apartment   \n",
       "14778   2017-04-08      New & Bright, Central Apartment   \n",
       "14779   2017-05-03        Luxury Master Bedroom in DTLA   \n",
       "\n",
       "                                                 Summary  \\\n",
       "0      Charming bright and cosy studio in \"El Rastro\"...   \n",
       "1      In the center, recently remodeled, comfortable...   \n",
       "2      Nice apartment near Sol and La Latina. Perfect...   \n",
       "3      Alquilo estudio en el centro de Madrid , total...   \n",
       "4                                                    NaN   \n",
       "...                                                  ...   \n",
       "14775                                                NaN   \n",
       "14776  Lugares de interés: Teatro Real, Círculo de Be...   \n",
       "14777  It's located 5 minutes from the PRADO MUSEUM a...   \n",
       "14778  El apartamento a parte de encontrarse en el ce...   \n",
       "14779  Private Master bedroom (EMAIL HIDDEN) with uni...   \n",
       "\n",
       "                                                   Space  \\\n",
       "0      It's a bright and cosy studio located in the h...   \n",
       "1      Quiet and comfortable space where you can rela...   \n",
       "2      Is a really cosy apartment with the best locat...   \n",
       "3                                                    NaN   \n",
       "4      Bright and airy apartment in Central Madrid re...   \n",
       "...                                                  ...   \n",
       "14775  Es un apartamento moderno y luminoso, localiza...   \n",
       "14776  Nice and confortable room, near by the best to...   \n",
       "14777  The location of this apartment is ideal for vi...   \n",
       "14778  El alojamiento esta totalmente reformado, un a...   \n",
       "14779                                                NaN   \n",
       "\n",
       "                                             Description Experiences Offered  \\\n",
       "0      Charming bright and cosy studio in \"El Rastro\"...                none   \n",
       "1      In the center, recently remodeled, comfortable...                none   \n",
       "2      Nice apartment near Sol and La Latina. Perfect...                none   \n",
       "3      Alquilo estudio en el centro de Madrid , total...                none   \n",
       "4      Bright and airy apartment in Central Madrid re...                none   \n",
       "...                                                  ...                 ...   \n",
       "14775  Es un apartamento moderno y luminoso, localiza...                none   \n",
       "14776  Lugares de interés: Teatro Real, Círculo de Be...                none   \n",
       "14777  It's located 5 minutes from the PRADO MUSEUM a...                none   \n",
       "14778  El apartamento a parte de encontrarse en el ce...                none   \n",
       "14779  Private Master bedroom (EMAIL HIDDEN) with uni...                none   \n",
       "\n",
       "                                   Neighborhood Overview  ...  \\\n",
       "0      The studio is located in the remarkable neighb...  ...   \n",
       "1      It belongs to the district center of Madrid wh...  ...   \n",
       "2      La Latina is well known by El Rastro, the most...  ...   \n",
       "3                                                    NaN  ...   \n",
       "4                                                    NaN  ...   \n",
       "...                                                  ...  ...   \n",
       "14775                                                NaN  ...   \n",
       "14776  Located at Madrid center, near by the shops, m...  ...   \n",
       "14777  Close to the main sightseing places of the cit...  ...   \n",
       "14778  El apartamento esta en frente de la Plaza Sant...  ...   \n",
       "14779                                                NaN  ...   \n",
       "\n",
       "      Review Scores Communication Review Scores Location Review Scores Value  \\\n",
       "0                            10.0                   10.0                10.0   \n",
       "1                             9.0                    9.0                 8.0   \n",
       "2                            10.0                   10.0                10.0   \n",
       "3                            10.0                    9.0                 9.0   \n",
       "4                            10.0                   10.0                10.0   \n",
       "...                           ...                    ...                 ...   \n",
       "14775                        10.0                   10.0                10.0   \n",
       "14776                        10.0                   10.0                 8.0   \n",
       "14777                        10.0                   10.0                10.0   \n",
       "14778                        10.0                   10.0                10.0   \n",
       "14779                         9.0                   10.0                 9.0   \n",
       "\n",
       "      License       Jurisdiction Names Cancellation Policy  \\\n",
       "0         NaN                      NaN            moderate   \n",
       "1         NaN                      NaN              strict   \n",
       "2         NaN                      NaN            moderate   \n",
       "3         NaN                      NaN              strict   \n",
       "4         NaN                      NaN              strict   \n",
       "...       ...                      ...                 ...   \n",
       "14775     NaN                      NaN            flexible   \n",
       "14776     NaN                      NaN              strict   \n",
       "14777     NaN                      NaN            moderate   \n",
       "14778     NaN                      NaN              strict   \n",
       "14779     NaN  City of Los Angeles, CA            flexible   \n",
       "\n",
       "      Calculated host listings count Reviews per Month  \\\n",
       "0                                2.0              5.11   \n",
       "1                               13.0              5.88   \n",
       "2                                1.0              6.18   \n",
       "3                                3.0              0.19   \n",
       "4                                1.0              1.39   \n",
       "...                              ...               ...   \n",
       "14775                            2.0              1.57   \n",
       "14776                            2.0              0.18   \n",
       "14777                            4.0              5.51   \n",
       "14778                            7.0              7.48   \n",
       "14779                            2.0              0.91   \n",
       "\n",
       "                                   Geolocation  \\\n",
       "0       40.40745268477803, -3.7079954754432634   \n",
       "1        40.40831556101927, -3.705006385704201   \n",
       "2      40.413722014584295, -3.7068231186536718   \n",
       "3      40.411263372718054, -3.6973054373712886   \n",
       "4        40.41255625665078, -3.701155364799422   \n",
       "...                                        ...   \n",
       "14775    40.41293036599803, -3.695167149872764   \n",
       "14776     40.41464666535238, -3.69737219529325   \n",
       "14777    40.41412238545284, -3.697248267268714   \n",
       "14778   40.41411110741996, -3.7011408371549077   \n",
       "14779    34.05143625240723, -118.2644057810829   \n",
       "\n",
       "                                                Features  \n",
       "0      Host Is Superhost,Host Has Profile Pic,Host Id...  \n",
       "1      Host Has Profile Pic,Host Identity Verified,Re...  \n",
       "2      Host Has Profile Pic,Host Identity Verified,Re...  \n",
       "3      Host Has Profile Pic,Host Identity Verified,Is...  \n",
       "4      Host Is Superhost,Host Has Profile Pic,Host Id...  \n",
       "...                                                  ...  \n",
       "14775  Host Is Superhost,Host Has Profile Pic,Host Id...  \n",
       "14776              Host Has Profile Pic,Requires License  \n",
       "14777  Host Has Profile Pic,Host Identity Verified,Re...  \n",
       "14778  Host Has Profile Pic,Host Identity Verified,Re...  \n",
       "14779        Host Has Profile Pic,Host Identity Verified  \n",
       "\n",
       "[14780 rows x 89 columns]>"
      ]
     },
     "execution_count": 25,
     "metadata": {},
     "output_type": "execute_result"
    }
   ],
   "source": [
    "#ver el data set para saber cuales son las columnas que quiero eliminar\n",
    "airbnb.head"
   ]
  },
  {
   "cell_type": "code",
   "execution_count": 33,
   "id": "5e6e21d3",
   "metadata": {},
   "outputs": [
    {
     "name": "stdout",
     "output_type": "stream",
     "text": [
      "Name                               object\n",
      "Summary                            object\n",
      "Space                              object\n",
      "Description                        object\n",
      "Experiences Offered                object\n",
      "                                   ...   \n",
      "Cancellation Policy                object\n",
      "Calculated host listings count    float64\n",
      "Reviews per Month                 float64\n",
      "Geolocation                        object\n",
      "Features                           object\n",
      "Length: 75, dtype: object\n"
     ]
    }
   ],
   "source": [
    "#see value types\n",
    "print(airbnb.dtypes)"
   ]
  },
  {
   "cell_type": "code",
   "execution_count": 26,
   "id": "38328d64",
   "metadata": {},
   "outputs": [
    {
     "data": {
      "text/plain": [
       "Index(['ID', 'Listing Url', 'Scrape ID', 'Last Scraped', 'Name', 'Summary',\n",
       "       'Space', 'Description', 'Experiences Offered', 'Neighborhood Overview',\n",
       "       'Notes', 'Transit', 'Access', 'Interaction', 'House Rules',\n",
       "       'Thumbnail Url', 'Medium Url', 'Picture Url', 'XL Picture Url',\n",
       "       'Host ID', 'Host URL', 'Host Name', 'Host Since', 'Host Location',\n",
       "       'Host About', 'Host Response Time', 'Host Response Rate',\n",
       "       'Host Acceptance Rate', 'Host Thumbnail Url', 'Host Picture Url',\n",
       "       'Host Neighbourhood', 'Host Listings Count',\n",
       "       'Host Total Listings Count', 'Host Verifications', 'Street',\n",
       "       'Neighbourhood', 'Neighbourhood Cleansed',\n",
       "       'Neighbourhood Group Cleansed', 'City', 'State', 'Zipcode', 'Market',\n",
       "       'Smart Location', 'Country Code', 'Country', 'Latitude', 'Longitude',\n",
       "       'Property Type', 'Room Type', 'Accommodates', 'Bathrooms', 'Bedrooms',\n",
       "       'Beds', 'Bed Type', 'Amenities', 'Square Feet', 'Price', 'Weekly Price',\n",
       "       'Monthly Price', 'Security Deposit', 'Cleaning Fee', 'Guests Included',\n",
       "       'Extra People', 'Minimum Nights', 'Maximum Nights', 'Calendar Updated',\n",
       "       'Has Availability', 'Availability 30', 'Availability 60',\n",
       "       'Availability 90', 'Availability 365', 'Calendar last Scraped',\n",
       "       'Number of Reviews', 'First Review', 'Last Review',\n",
       "       'Review Scores Rating', 'Review Scores Accuracy',\n",
       "       'Review Scores Cleanliness', 'Review Scores Checkin',\n",
       "       'Review Scores Communication', 'Review Scores Location',\n",
       "       'Review Scores Value', 'License', 'Jurisdiction Names',\n",
       "       'Cancellation Policy', 'Calculated host listings count',\n",
       "       'Reviews per Month', 'Geolocation', 'Features'],\n",
       "      dtype='object')"
      ]
     },
     "execution_count": 26,
     "metadata": {},
     "output_type": "execute_result"
    }
   ],
   "source": [
    "airbnb.columns"
   ]
  },
  {
   "cell_type": "code",
   "execution_count": 27,
   "id": "b27d3f80",
   "metadata": {},
   "outputs": [
    {
     "data": {
      "text/plain": [
       "Index(['Name', 'Summary', 'Space', 'Description', 'Experiences Offered',\n",
       "       'Neighborhood Overview', 'Notes', 'Transit', 'Access', 'Interaction',\n",
       "       'House Rules', 'Host ID', 'Host Name', 'Host Since', 'Host Location',\n",
       "       'Host About', 'Host Response Time', 'Host Response Rate',\n",
       "       'Host Acceptance Rate', 'Host Neighbourhood', 'Host Listings Count',\n",
       "       'Host Total Listings Count', 'Host Verifications', 'Street',\n",
       "       'Neighbourhood', 'Neighbourhood Cleansed',\n",
       "       'Neighbourhood Group Cleansed', 'City', 'State', 'Zipcode', 'Market',\n",
       "       'Smart Location', 'Country Code', 'Country', 'Property Type',\n",
       "       'Room Type', 'Accommodates', 'Bathrooms', 'Bedrooms', 'Beds',\n",
       "       'Bed Type', 'Amenities', 'Square Feet', 'Price', 'Weekly Price',\n",
       "       'Monthly Price', 'Security Deposit', 'Cleaning Fee', 'Guests Included',\n",
       "       'Extra People', 'Minimum Nights', 'Maximum Nights', 'Calendar Updated',\n",
       "       'Has Availability', 'Availability 30', 'Availability 60',\n",
       "       'Availability 90', 'Availability 365', 'Number of Reviews',\n",
       "       'First Review', 'Last Review', 'Review Scores Rating',\n",
       "       'Review Scores Accuracy', 'Review Scores Cleanliness',\n",
       "       'Review Scores Checkin', 'Review Scores Communication',\n",
       "       'Review Scores Location', 'Review Scores Value', 'License',\n",
       "       'Jurisdiction Names', 'Cancellation Policy',\n",
       "       'Calculated host listings count', 'Reviews per Month', 'Geolocation',\n",
       "       'Features'],\n",
       "      dtype='object')"
      ]
     },
     "execution_count": 27,
     "metadata": {},
     "output_type": "execute_result"
    }
   ],
   "source": [
    "#definir las columnas que quiero dropear\n",
    "to_drop = [\"ID\", \"Listing Url\", \"Scrape ID\", \"Last Scraped\", \"Thumbnail Url\", \"Medium Url\", \"Picture Url\", \"XL Picture Url\", \"Host URL\", \"Host Thumbnail Url\", \"Host Picture Url\", \"Latitude\", \"Longitude\", \"Calendar last Scraped\"]\n",
    "airbnb = airbnb.drop(to_drop, axis =1)\n",
    "airbnb.columns"
   ]
  },
  {
   "cell_type": "code",
   "execution_count": 28,
   "id": "aa84e439",
   "metadata": {},
   "outputs": [
    {
     "name": "stdout",
     "output_type": "stream",
     "text": [
      "0        Madrid\n",
      "1        Madrid\n",
      "2        Madrid\n",
      "3        Madrid\n",
      "4        Madrid\n",
      "          ...  \n",
      "14773    Madrid\n",
      "14775    Madrid\n",
      "14776    Madrid\n",
      "14777    Madrid\n",
      "14778    Madrid\n",
      "Name: City, Length: 13207, dtype: object\n"
     ]
    }
   ],
   "source": [
    "#quedarme con las entradas de Madrid\n",
    "airbnb = airbnb[airbnb['City'] == 'Madrid']\n",
    "#check to see if it worked\n",
    "city_column = airbnb['City']\n",
    "print(city_column)"
   ]
  },
  {
   "cell_type": "code",
   "execution_count": 29,
   "id": "a244c5c1",
   "metadata": {},
   "outputs": [
    {
     "name": "stdout",
     "output_type": "stream",
     "text": [
      "Name                                 0\n",
      "Summary                            488\n",
      "Space                             3562\n",
      "Description                          6\n",
      "Experiences Offered                  0\n",
      "                                  ... \n",
      "Cancellation Policy                  0\n",
      "Calculated host listings count       0\n",
      "Reviews per Month                 2713\n",
      "Geolocation                          0\n",
      "Features                             0\n",
      "Length: 75, dtype: int64\n"
     ]
    }
   ],
   "source": [
    "#check for NAs and NaNs\n",
    "missing_values = airbnb.isna()\n",
    "#count of missing values\n",
    "missing_count = missing_values.sum()\n",
    "print(missing_count)\n",
    "#after splitting into test and train, I will need to drop the values and see what i want to replace them with"
   ]
  },
  {
   "cell_type": "code",
   "execution_count": 106,
   "id": "3f7d2d5f",
   "metadata": {
    "scrolled": false
   },
   "outputs": [
    {
     "name": "stdout",
     "output_type": "stream",
     "text": [
      "Rows, columns: (13207, 74)\n",
      "Offset: 3301\n",
      "Number of missing values in y_train: 8\n",
      "Number of missing values in y_test: 1\n"
     ]
    },
    {
     "data": {
      "image/png": "[encoded data removed]",
      "text/plain": [
       "<Figure size 640x480 with 1 Axes>"
      ]
     },
     "metadata": {},
     "output_type": "display_data"
    }
   ],
   "source": [
    "# Preparing the data\n",
    "features = airbnb.columns.drop(['Price'])\n",
    "X = airbnb[features].values\n",
    "y = airbnb['Price'].values\n",
    "\n",
    "print('Rows, columns:', X.shape)\n",
    "\n",
    "# Step 1: Splitting the data\n",
    "offset = 3301 \n",
    "print('Offset:', offset)\n",
    "\n",
    "\n",
    "X_train = X[:-offset, :]\n",
    "y_train = y[:-offset]\n",
    "X_test  = X[-offset:, :]\n",
    "y_test  = y[-offset:]\n",
    "\n",
    "print('Number of missing values in y_train:', np.isnan(y_train).sum())\n",
    "print('Number of missing values in y_test:', np.isnan(y_test).sum())\n",
    "\n",
    "plt.plot(range(0,len(y_train)),y_train, label='train')\n",
    "plt.plot(range(len(y_train),len(y)),y_test,label='test')\n",
    "plt.legend()\n",
    "plt.show()\n",
    "\n"
   ]
  },
  {
   "cell_type": "code",
   "execution_count": 114,
   "id": "09bf7b91",
   "metadata": {},
   "outputs": [
    {
     "name": "stdout",
     "output_type": "stream",
     "text": [
      "Number of missing values in y_train: 0\n"
     ]
    }
   ],
   "source": [
    "#drop missing values from test and train\n",
    "X_train = X_train[~np.isnan(y_train)]\n",
    "y_train = y_train[~np.isnan(y_train)]\n",
    "X_test = X_test[~np.isnan(y_test)]\n",
    "y_test = y_test[~np.isnan(y_test)]\n",
    "\n",
    "#trying to figure out why y_train does not have any values\n",
    "missing_values = np.isnan(y_train)\n",
    "num_missing_values = np.sum(missing_values)\n",
    "print('Number of missing values in y_train:', num_missing_values)"
   ]
  },
  {
   "cell_type": "code",
   "execution_count": 115,
   "id": "8509e6e8",
   "metadata": {},
   "outputs": [
    {
     "name": "stdout",
     "output_type": "stream",
     "text": [
      "Number of missing values in train_df: 0.0\n",
      "New shape of X_train: (0, 74)\n",
      "New shape of y_train: (0,)\n"
     ]
    }
   ],
   "source": [
    "# Drop rows with missing values from the DataFrame\n",
    "train_df.dropna(inplace=True)\n",
    "print('Number of missing values in train_df:', train_df.isnull().sum().sum())\n",
    "\n",
    "# Update X_train and y_train with the non-null values\n",
    "X_train = train_df.values\n",
    "y_train = y_train[train_df.index]\n",
    "\n",
    "# Print the new shape of X_train and y_train after dropping missing values\n",
    "print('New shape of X_train:', X_train.shape)\n",
    "print('New shape of y_train:', y_train.shape)\n"
   ]
  },
  {
   "cell_type": "code",
   "execution_count": 116,
   "id": "5a50bd13",
   "metadata": {},
   "outputs": [
    {
     "name": "stdout",
     "output_type": "stream",
     "text": [
      "Series([], dtype: float64)\n"
     ]
    }
   ],
   "source": [
    "import pandas as pd\n",
    "import seaborn as sns\n",
    "import matplotlib.pyplot as plt\n",
    "import numpy as np\n",
    "\n",
    "X_train = pd.DataFrame(X_train, columns=features)\n",
    "#X_test = pd.DataFrame(X_test, columns=features)\n",
    "\n",
    "# Calculate correlation matrix\n",
    "matrix = X_train.corrwith(pd.Series(y_train), axis=1).round(2)\n",
    "print(matrix)\n",
    "\n",
    "# Convert correlation matrix to numeric format\n",
    "matrix = pd.to_numeric(matrix, errors='coerce')\n",
    "\n",
    "# Fill NaN or non-numeric values with 0\n",
    "#matrix = matrix.fillna(0)\n",
    "\n",
    "#matrix_df = pd.DataFrame(matrix, columns=[\"Correlation\"])\n",
    "\n",
    "# Convert correlation values to numeric data type\n",
    "#matrix_df[\"Correlation\"] = pd.to_numeric(matrix_df[\"Correlation\"])\n",
    "\n",
    "# Plot the correlation matrix using seaborn\n",
    "#sns.heatmap(matrix_df, vmin=-1, vmax=1, cmap='vlag')\n",
    "#plt.title(\"Correlation Matrix\")\n",
    "#plt.show()"
   ]
  },
  {
   "cell_type": "code",
   "execution_count": 112,
   "id": "6095290f",
   "metadata": {},
   "outputs": [
    {
     "ename": "NameError",
     "evalue": "name 'isnull' is not defined",
     "output_type": "error",
     "traceback": [
      "\u001b[1;31m---------------------------------------------------------------------------\u001b[0m",
      "\u001b[1;31mNameError\u001b[0m                                 Traceback (most recent call last)",
      "\u001b[1;32m~\\AppData\\Local\\Temp\\ipykernel_24268\\3538886972.py\u001b[0m in \u001b[0;36m<module>\u001b[1;34m\u001b[0m\n\u001b[1;32m----> 1\u001b[1;33m \u001b[0misnull\u001b[0m\u001b[1;33m(\u001b[0m\u001b[0my_train\u001b[0m\u001b[1;33m)\u001b[0m\u001b[1;33m\u001b[0m\u001b[1;33m\u001b[0m\u001b[0m\n\u001b[0m",
      "\u001b[1;31mNameError\u001b[0m: name 'isnull' is not defined"
     ]
    }
   ],
   "source": [
    "isnull(y_train)"
   ]
  },
  {
   "cell_type": "code",
   "execution_count": 104,
   "id": "71d210a1",
   "metadata": {},
   "outputs": [
    {
     "data": {
      "text/plain": [
       "Series([], dtype: float64)"
      ]
     },
     "execution_count": 104,
     "metadata": {},
     "output_type": "execute_result"
    }
   ],
   "source": [
    "#filter dataframe to see strong correlations only\n",
    "#unstack\n",
    "matrix_df = matrix_df.unstack()\n",
    "matrix_df[abs(matrix_df) >= 0.5]"
   ]
  },
  {
   "cell_type": "code",
   "execution_count": 105,
   "id": "cade770b",
   "metadata": {},
   "outputs": [
    {
     "name": "stdout",
     "output_type": "stream",
     "text": [
      "New shape of X_test: (0, 74)\n"
     ]
    }
   ],
   "source": [
    "#Drop NA and NaN values from train\n",
    "import pandas as pd\n",
    "import numpy as np\n",
    "\n",
    "# Create a DataFrame from X_test\n",
    "test_df = pd.DataFrame(X_test, columns=features)\n",
    "\n",
    "# Drop rows with missing values from the DataFrame\n",
    "test_df.dropna(inplace=True)\n",
    "\n",
    "# Update X_train and y_train with the non-null values\n",
    "X_test = train_df.values\n",
    "y_test = y_train[train_df.index]\n",
    "\n",
    "# Print the new shape of X_train after dropping missing values\n",
    "print('New shape of X_test:', X_test.shape)\n"
   ]
  },
  {
   "cell_type": "code",
   "execution_count": 92,
   "id": "b7dd8d11",
   "metadata": {},
   "outputs": [
    {
     "ename": "ValueError",
     "evalue": "at least one array or dtype is required",
     "output_type": "error",
     "traceback": [
      "\u001b[1;31m---------------------------------------------------------------------------\u001b[0m",
      "\u001b[1;31mValueError\u001b[0m                                Traceback (most recent call last)",
      "\u001b[1;32m~\\AppData\\Local\\Temp\\ipykernel_24268\\171838395.py\u001b[0m in \u001b[0;36m<module>\u001b[1;34m\u001b[0m\n\u001b[0;32m      6\u001b[0m \u001b[1;31m#fit and transform\u001b[0m\u001b[1;33m\u001b[0m\u001b[1;33m\u001b[0m\u001b[0m\n\u001b[0;32m      7\u001b[0m \u001b[0mX_train_normalized\u001b[0m \u001b[1;33m=\u001b[0m \u001b[0mX_train\u001b[0m\u001b[1;33m.\u001b[0m\u001b[0mcopy\u001b[0m\u001b[1;33m(\u001b[0m\u001b[1;33m)\u001b[0m\u001b[1;33m\u001b[0m\u001b[1;33m\u001b[0m\u001b[0m\n\u001b[1;32m----> 8\u001b[1;33m \u001b[0mX_train_normalized\u001b[0m\u001b[1;33m[\u001b[0m\u001b[0mnum_features\u001b[0m\u001b[1;33m]\u001b[0m \u001b[1;33m=\u001b[0m \u001b[0mscaler\u001b[0m\u001b[1;33m.\u001b[0m\u001b[0mfit_transform\u001b[0m\u001b[1;33m(\u001b[0m\u001b[0mX_train\u001b[0m\u001b[1;33m[\u001b[0m\u001b[0mnum_features\u001b[0m\u001b[1;33m]\u001b[0m\u001b[1;33m)\u001b[0m\u001b[1;33m\u001b[0m\u001b[1;33m\u001b[0m\u001b[0m\n\u001b[0m\u001b[0;32m      9\u001b[0m \u001b[1;31m#transform the test set\u001b[0m\u001b[1;33m\u001b[0m\u001b[1;33m\u001b[0m\u001b[0m\n\u001b[0;32m     10\u001b[0m \u001b[0mX_test_normalized\u001b[0m \u001b[1;33m=\u001b[0m \u001b[0mX_test\u001b[0m\u001b[1;33m.\u001b[0m\u001b[0mcopy\u001b[0m\u001b[1;33m(\u001b[0m\u001b[1;33m)\u001b[0m\u001b[1;33m\u001b[0m\u001b[1;33m\u001b[0m\u001b[0m\n",
      "\u001b[1;32m~\\anaconda3\\lib\\site-packages\\sklearn\\base.py\u001b[0m in \u001b[0;36mfit_transform\u001b[1;34m(self, X, y, **fit_params)\u001b[0m\n\u001b[0;32m    850\u001b[0m         \u001b[1;32mif\u001b[0m \u001b[0my\u001b[0m \u001b[1;32mis\u001b[0m \u001b[1;32mNone\u001b[0m\u001b[1;33m:\u001b[0m\u001b[1;33m\u001b[0m\u001b[1;33m\u001b[0m\u001b[0m\n\u001b[0;32m    851\u001b[0m             \u001b[1;31m# fit method of arity 1 (unsupervised transformation)\u001b[0m\u001b[1;33m\u001b[0m\u001b[1;33m\u001b[0m\u001b[0m\n\u001b[1;32m--> 852\u001b[1;33m             \u001b[1;32mreturn\u001b[0m \u001b[0mself\u001b[0m\u001b[1;33m.\u001b[0m\u001b[0mfit\u001b[0m\u001b[1;33m(\u001b[0m\u001b[0mX\u001b[0m\u001b[1;33m,\u001b[0m \u001b[1;33m**\u001b[0m\u001b[0mfit_params\u001b[0m\u001b[1;33m)\u001b[0m\u001b[1;33m.\u001b[0m\u001b[0mtransform\u001b[0m\u001b[1;33m(\u001b[0m\u001b[0mX\u001b[0m\u001b[1;33m)\u001b[0m\u001b[1;33m\u001b[0m\u001b[1;33m\u001b[0m\u001b[0m\n\u001b[0m\u001b[0;32m    853\u001b[0m         \u001b[1;32melse\u001b[0m\u001b[1;33m:\u001b[0m\u001b[1;33m\u001b[0m\u001b[1;33m\u001b[0m\u001b[0m\n\u001b[0;32m    854\u001b[0m             \u001b[1;31m# fit method of arity 2 (supervised transformation)\u001b[0m\u001b[1;33m\u001b[0m\u001b[1;33m\u001b[0m\u001b[0m\n",
      "\u001b[1;32m~\\anaconda3\\lib\\site-packages\\sklearn\\preprocessing\\_data.py\u001b[0m in \u001b[0;36mfit\u001b[1;34m(self, X, y)\u001b[0m\n\u001b[0;32m    414\u001b[0m         \u001b[1;31m# Reset internal state before fitting\u001b[0m\u001b[1;33m\u001b[0m\u001b[1;33m\u001b[0m\u001b[0m\n\u001b[0;32m    415\u001b[0m         \u001b[0mself\u001b[0m\u001b[1;33m.\u001b[0m\u001b[0m_reset\u001b[0m\u001b[1;33m(\u001b[0m\u001b[1;33m)\u001b[0m\u001b[1;33m\u001b[0m\u001b[1;33m\u001b[0m\u001b[0m\n\u001b[1;32m--> 416\u001b[1;33m         \u001b[1;32mreturn\u001b[0m \u001b[0mself\u001b[0m\u001b[1;33m.\u001b[0m\u001b[0mpartial_fit\u001b[0m\u001b[1;33m(\u001b[0m\u001b[0mX\u001b[0m\u001b[1;33m,\u001b[0m \u001b[0my\u001b[0m\u001b[1;33m)\u001b[0m\u001b[1;33m\u001b[0m\u001b[1;33m\u001b[0m\u001b[0m\n\u001b[0m\u001b[0;32m    417\u001b[0m \u001b[1;33m\u001b[0m\u001b[0m\n\u001b[0;32m    418\u001b[0m     \u001b[1;32mdef\u001b[0m \u001b[0mpartial_fit\u001b[0m\u001b[1;33m(\u001b[0m\u001b[0mself\u001b[0m\u001b[1;33m,\u001b[0m \u001b[0mX\u001b[0m\u001b[1;33m,\u001b[0m \u001b[0my\u001b[0m\u001b[1;33m=\u001b[0m\u001b[1;32mNone\u001b[0m\u001b[1;33m)\u001b[0m\u001b[1;33m:\u001b[0m\u001b[1;33m\u001b[0m\u001b[1;33m\u001b[0m\u001b[0m\n",
      "\u001b[1;32m~\\anaconda3\\lib\\site-packages\\sklearn\\preprocessing\\_data.py\u001b[0m in \u001b[0;36mpartial_fit\u001b[1;34m(self, X, y)\u001b[0m\n\u001b[0;32m    451\u001b[0m \u001b[1;33m\u001b[0m\u001b[0m\n\u001b[0;32m    452\u001b[0m         \u001b[0mfirst_pass\u001b[0m \u001b[1;33m=\u001b[0m \u001b[1;32mnot\u001b[0m \u001b[0mhasattr\u001b[0m\u001b[1;33m(\u001b[0m\u001b[0mself\u001b[0m\u001b[1;33m,\u001b[0m \u001b[1;34m\"n_samples_seen_\"\u001b[0m\u001b[1;33m)\u001b[0m\u001b[1;33m\u001b[0m\u001b[1;33m\u001b[0m\u001b[0m\n\u001b[1;32m--> 453\u001b[1;33m         X = self._validate_data(\n\u001b[0m\u001b[0;32m    454\u001b[0m             \u001b[0mX\u001b[0m\u001b[1;33m,\u001b[0m\u001b[1;33m\u001b[0m\u001b[1;33m\u001b[0m\u001b[0m\n\u001b[0;32m    455\u001b[0m             \u001b[0mreset\u001b[0m\u001b[1;33m=\u001b[0m\u001b[0mfirst_pass\u001b[0m\u001b[1;33m,\u001b[0m\u001b[1;33m\u001b[0m\u001b[1;33m\u001b[0m\u001b[0m\n",
      "\u001b[1;32m~\\anaconda3\\lib\\site-packages\\sklearn\\base.py\u001b[0m in \u001b[0;36m_validate_data\u001b[1;34m(self, X, y, reset, validate_separately, **check_params)\u001b[0m\n\u001b[0;32m    564\u001b[0m             \u001b[1;32mraise\u001b[0m \u001b[0mValueError\u001b[0m\u001b[1;33m(\u001b[0m\u001b[1;34m\"Validation should be done on X, y or both.\"\u001b[0m\u001b[1;33m)\u001b[0m\u001b[1;33m\u001b[0m\u001b[1;33m\u001b[0m\u001b[0m\n\u001b[0;32m    565\u001b[0m         \u001b[1;32melif\u001b[0m \u001b[1;32mnot\u001b[0m \u001b[0mno_val_X\u001b[0m \u001b[1;32mand\u001b[0m \u001b[0mno_val_y\u001b[0m\u001b[1;33m:\u001b[0m\u001b[1;33m\u001b[0m\u001b[1;33m\u001b[0m\u001b[0m\n\u001b[1;32m--> 566\u001b[1;33m             \u001b[0mX\u001b[0m \u001b[1;33m=\u001b[0m \u001b[0mcheck_array\u001b[0m\u001b[1;33m(\u001b[0m\u001b[0mX\u001b[0m\u001b[1;33m,\u001b[0m \u001b[1;33m**\u001b[0m\u001b[0mcheck_params\u001b[0m\u001b[1;33m)\u001b[0m\u001b[1;33m\u001b[0m\u001b[1;33m\u001b[0m\u001b[0m\n\u001b[0m\u001b[0;32m    567\u001b[0m             \u001b[0mout\u001b[0m \u001b[1;33m=\u001b[0m \u001b[0mX\u001b[0m\u001b[1;33m\u001b[0m\u001b[1;33m\u001b[0m\u001b[0m\n\u001b[0;32m    568\u001b[0m         \u001b[1;32melif\u001b[0m \u001b[0mno_val_X\u001b[0m \u001b[1;32mand\u001b[0m \u001b[1;32mnot\u001b[0m \u001b[0mno_val_y\u001b[0m\u001b[1;33m:\u001b[0m\u001b[1;33m\u001b[0m\u001b[1;33m\u001b[0m\u001b[0m\n",
      "\u001b[1;32m~\\anaconda3\\lib\\site-packages\\sklearn\\utils\\validation.py\u001b[0m in \u001b[0;36mcheck_array\u001b[1;34m(array, accept_sparse, accept_large_sparse, dtype, order, copy, force_all_finite, ensure_2d, allow_nd, ensure_min_samples, ensure_min_features, estimator)\u001b[0m\n\u001b[0;32m    663\u001b[0m \u001b[1;33m\u001b[0m\u001b[0m\n\u001b[0;32m    664\u001b[0m         \u001b[1;32mif\u001b[0m \u001b[0mall\u001b[0m\u001b[1;33m(\u001b[0m\u001b[0misinstance\u001b[0m\u001b[1;33m(\u001b[0m\u001b[0mdtype\u001b[0m\u001b[1;33m,\u001b[0m \u001b[0mnp\u001b[0m\u001b[1;33m.\u001b[0m\u001b[0mdtype\u001b[0m\u001b[1;33m)\u001b[0m \u001b[1;32mfor\u001b[0m \u001b[0mdtype\u001b[0m \u001b[1;32min\u001b[0m \u001b[0mdtypes_orig\u001b[0m\u001b[1;33m)\u001b[0m\u001b[1;33m:\u001b[0m\u001b[1;33m\u001b[0m\u001b[1;33m\u001b[0m\u001b[0m\n\u001b[1;32m--> 665\u001b[1;33m             \u001b[0mdtype_orig\u001b[0m \u001b[1;33m=\u001b[0m \u001b[0mnp\u001b[0m\u001b[1;33m.\u001b[0m\u001b[0mresult_type\u001b[0m\u001b[1;33m(\u001b[0m\u001b[1;33m*\u001b[0m\u001b[0mdtypes_orig\u001b[0m\u001b[1;33m)\u001b[0m\u001b[1;33m\u001b[0m\u001b[1;33m\u001b[0m\u001b[0m\n\u001b[0m\u001b[0;32m    666\u001b[0m \u001b[1;33m\u001b[0m\u001b[0m\n\u001b[0;32m    667\u001b[0m     \u001b[1;32mif\u001b[0m \u001b[0mdtype_numeric\u001b[0m\u001b[1;33m:\u001b[0m\u001b[1;33m\u001b[0m\u001b[1;33m\u001b[0m\u001b[0m\n",
      "\u001b[1;32m<__array_function__ internals>\u001b[0m in \u001b[0;36mresult_type\u001b[1;34m(*args, **kwargs)\u001b[0m\n",
      "\u001b[1;31mValueError\u001b[0m: at least one array or dtype is required"
     ]
    }
   ],
   "source": [
    "#Normalizar the datasets\n",
    "#Apply normaliazation to numerical values only\n",
    "from sklearn.preprocessing import MinMaxScaler\n",
    "num_features = X_train.select_dtypes(include='number').columns\n",
    "scaler = MinMaxScaler()\n",
    "#fit and transform\n",
    "X_train_normalized = X_train.copy()\n",
    "X_train_normalized[num_features] = scaler.fit_transform(X_train[num_features])\n",
    "#transform the test set\n",
    "X_test_normalized = X_test.copy()\n",
    "X_test_normalized[num_features] = scaler.transform(X_test[num_features])"
   ]
  },
  {
   "cell_type": "code",
   "execution_count": 93,
   "id": "e32ea19a",
   "metadata": {},
   "outputs": [
    {
     "ename": "ValueError",
     "evalue": "Cannot have number of splits n_splits=5 greater than the number of samples: n_samples=0.",
     "output_type": "error",
     "traceback": [
      "\u001b[1;31m---------------------------------------------------------------------------\u001b[0m",
      "\u001b[1;31mValueError\u001b[0m                                Traceback (most recent call last)",
      "\u001b[1;32m~\\AppData\\Local\\Temp\\ipykernel_24268\\998275926.py\u001b[0m in \u001b[0;36m<module>\u001b[1;34m\u001b[0m\n\u001b[0;32m      6\u001b[0m \u001b[0mparam_grid\u001b[0m \u001b[1;33m=\u001b[0m\u001b[1;33m{\u001b[0m\u001b[1;34m'alpha'\u001b[0m\u001b[1;33m:\u001b[0m \u001b[1;33m[\u001b[0m\u001b[1;36m0.001\u001b[0m\u001b[1;33m,\u001b[0m \u001b[1;36m0.01\u001b[0m\u001b[1;33m,\u001b[0m \u001b[1;36m0.1\u001b[0m\u001b[1;33m,\u001b[0m \u001b[1;36m1\u001b[0m\u001b[1;33m,\u001b[0m \u001b[1;36m10\u001b[0m\u001b[1;33m]\u001b[0m\u001b[1;33m}\u001b[0m\u001b[1;33m\u001b[0m\u001b[1;33m\u001b[0m\u001b[0m\n\u001b[0;32m      7\u001b[0m \u001b[0mgrid_search\u001b[0m \u001b[1;33m=\u001b[0m \u001b[0mGridSearchCV\u001b[0m\u001b[1;33m(\u001b[0m\u001b[0mlasso\u001b[0m\u001b[1;33m,\u001b[0m \u001b[0mparam_grid\u001b[0m\u001b[1;33m,\u001b[0m \u001b[0mcv\u001b[0m\u001b[1;33m=\u001b[0m\u001b[1;36m5\u001b[0m\u001b[1;33m)\u001b[0m\u001b[1;33m\u001b[0m\u001b[1;33m\u001b[0m\u001b[0m\n\u001b[1;32m----> 8\u001b[1;33m \u001b[0mgrid_search\u001b[0m\u001b[1;33m.\u001b[0m\u001b[0mfit\u001b[0m\u001b[1;33m(\u001b[0m\u001b[0mX_train_normalized\u001b[0m\u001b[1;33m,\u001b[0m \u001b[0my_train\u001b[0m\u001b[1;33m)\u001b[0m\u001b[1;33m\u001b[0m\u001b[1;33m\u001b[0m\u001b[0m\n\u001b[0m\u001b[0;32m      9\u001b[0m \u001b[1;31m#find the most optimal parameters and model\u001b[0m\u001b[1;33m\u001b[0m\u001b[1;33m\u001b[0m\u001b[0m\n\u001b[0;32m     10\u001b[0m \u001b[0mbest\u001b[0m \u001b[1;33m=\u001b[0m \u001b[0mgrid_search\u001b[0m\u001b[1;33m.\u001b[0m\u001b[0mbest_params_\u001b[0m\u001b[1;33m[\u001b[0m\u001b[1;34m'alpha'\u001b[0m\u001b[1;33m]\u001b[0m\u001b[1;33m\u001b[0m\u001b[1;33m\u001b[0m\u001b[0m\n",
      "\u001b[1;32m~\\anaconda3\\lib\\site-packages\\sklearn\\model_selection\\_search.py\u001b[0m in \u001b[0;36mfit\u001b[1;34m(self, X, y, groups, **fit_params)\u001b[0m\n\u001b[0;32m    889\u001b[0m                 \u001b[1;32mreturn\u001b[0m \u001b[0mresults\u001b[0m\u001b[1;33m\u001b[0m\u001b[1;33m\u001b[0m\u001b[0m\n\u001b[0;32m    890\u001b[0m \u001b[1;33m\u001b[0m\u001b[0m\n\u001b[1;32m--> 891\u001b[1;33m             \u001b[0mself\u001b[0m\u001b[1;33m.\u001b[0m\u001b[0m_run_search\u001b[0m\u001b[1;33m(\u001b[0m\u001b[0mevaluate_candidates\u001b[0m\u001b[1;33m)\u001b[0m\u001b[1;33m\u001b[0m\u001b[1;33m\u001b[0m\u001b[0m\n\u001b[0m\u001b[0;32m    892\u001b[0m \u001b[1;33m\u001b[0m\u001b[0m\n\u001b[0;32m    893\u001b[0m             \u001b[1;31m# multimetric is determined here because in the case of a callable\u001b[0m\u001b[1;33m\u001b[0m\u001b[1;33m\u001b[0m\u001b[0m\n",
      "\u001b[1;32m~\\anaconda3\\lib\\site-packages\\sklearn\\model_selection\\_search.py\u001b[0m in \u001b[0;36m_run_search\u001b[1;34m(self, evaluate_candidates)\u001b[0m\n\u001b[0;32m   1390\u001b[0m     \u001b[1;32mdef\u001b[0m \u001b[0m_run_search\u001b[0m\u001b[1;33m(\u001b[0m\u001b[0mself\u001b[0m\u001b[1;33m,\u001b[0m \u001b[0mevaluate_candidates\u001b[0m\u001b[1;33m)\u001b[0m\u001b[1;33m:\u001b[0m\u001b[1;33m\u001b[0m\u001b[1;33m\u001b[0m\u001b[0m\n\u001b[0;32m   1391\u001b[0m         \u001b[1;34m\"\"\"Search all candidates in param_grid\"\"\"\u001b[0m\u001b[1;33m\u001b[0m\u001b[1;33m\u001b[0m\u001b[0m\n\u001b[1;32m-> 1392\u001b[1;33m         \u001b[0mevaluate_candidates\u001b[0m\u001b[1;33m(\u001b[0m\u001b[0mParameterGrid\u001b[0m\u001b[1;33m(\u001b[0m\u001b[0mself\u001b[0m\u001b[1;33m.\u001b[0m\u001b[0mparam_grid\u001b[0m\u001b[1;33m)\u001b[0m\u001b[1;33m)\u001b[0m\u001b[1;33m\u001b[0m\u001b[1;33m\u001b[0m\u001b[0m\n\u001b[0m\u001b[0;32m   1393\u001b[0m \u001b[1;33m\u001b[0m\u001b[0m\n\u001b[0;32m   1394\u001b[0m \u001b[1;33m\u001b[0m\u001b[0m\n",
      "\u001b[1;32m~\\anaconda3\\lib\\site-packages\\sklearn\\model_selection\\_search.py\u001b[0m in \u001b[0;36mevaluate_candidates\u001b[1;34m(candidate_params, cv, more_results)\u001b[0m\n\u001b[0;32m    848\u001b[0m                         \u001b[1;33m**\u001b[0m\u001b[0mfit_and_score_kwargs\u001b[0m\u001b[1;33m,\u001b[0m\u001b[1;33m\u001b[0m\u001b[1;33m\u001b[0m\u001b[0m\n\u001b[0;32m    849\u001b[0m                     )\n\u001b[1;32m--> 850\u001b[1;33m                     for (cand_idx, parameters), (split_idx, (train, test)) in product(\n\u001b[0m\u001b[0;32m    851\u001b[0m                         \u001b[0menumerate\u001b[0m\u001b[1;33m(\u001b[0m\u001b[0mcandidate_params\u001b[0m\u001b[1;33m)\u001b[0m\u001b[1;33m,\u001b[0m \u001b[0menumerate\u001b[0m\u001b[1;33m(\u001b[0m\u001b[0mcv\u001b[0m\u001b[1;33m.\u001b[0m\u001b[0msplit\u001b[0m\u001b[1;33m(\u001b[0m\u001b[0mX\u001b[0m\u001b[1;33m,\u001b[0m \u001b[0my\u001b[0m\u001b[1;33m,\u001b[0m \u001b[0mgroups\u001b[0m\u001b[1;33m)\u001b[0m\u001b[1;33m)\u001b[0m\u001b[1;33m\u001b[0m\u001b[1;33m\u001b[0m\u001b[0m\n\u001b[0;32m    852\u001b[0m                     )\n",
      "\u001b[1;32m~\\anaconda3\\lib\\site-packages\\sklearn\\model_selection\\_split.py\u001b[0m in \u001b[0;36msplit\u001b[1;34m(self, X, y, groups)\u001b[0m\n\u001b[0;32m    331\u001b[0m         \u001b[0mn_samples\u001b[0m \u001b[1;33m=\u001b[0m \u001b[0m_num_samples\u001b[0m\u001b[1;33m(\u001b[0m\u001b[0mX\u001b[0m\u001b[1;33m)\u001b[0m\u001b[1;33m\u001b[0m\u001b[1;33m\u001b[0m\u001b[0m\n\u001b[0;32m    332\u001b[0m         \u001b[1;32mif\u001b[0m \u001b[0mself\u001b[0m\u001b[1;33m.\u001b[0m\u001b[0mn_splits\u001b[0m \u001b[1;33m>\u001b[0m \u001b[0mn_samples\u001b[0m\u001b[1;33m:\u001b[0m\u001b[1;33m\u001b[0m\u001b[1;33m\u001b[0m\u001b[0m\n\u001b[1;32m--> 333\u001b[1;33m             raise ValueError(\n\u001b[0m\u001b[0;32m    334\u001b[0m                 (\n\u001b[0;32m    335\u001b[0m                     \u001b[1;34m\"Cannot have number of splits n_splits={0} greater\"\u001b[0m\u001b[1;33m\u001b[0m\u001b[1;33m\u001b[0m\u001b[0m\n",
      "\u001b[1;31mValueError\u001b[0m: Cannot have number of splits n_splits=5 greater than the number of samples: n_samples=0."
     ]
    }
   ],
   "source": [
    "from sklearn.linear_model import Lasso\n",
    "from sklearn.model_selection import GridSearchCV\n",
    "from sklearn.metrics import mean_squared_error\n",
    "lasso = Lasso()\n",
    "#establish parameters for grid search\n",
    "param_grid ={'alpha': [0.001, 0.01, 0.1, 1, 10]}\n",
    "grid_search = GridSearchCV(lasso, param_grid, cv=5)\n",
    "grid_search.fit(X_train_normalized, y_train)\n",
    "#find the most optimal parameters and model\n",
    "best = grid_search.best_params_['alpha']\n",
    "lasso_best = grid_search.best_estimator_\n",
    "#fit the model on the training data with the best params\n",
    "lasso_best.fit(X_train_normalized, y_train)\n",
    "#make predictions on the teset set\n",
    "y_pred = lasso_best.predict(X_test_normalized)\n",
    "#calculate the MSE\n",
    "mse = mean_squared_error(y_test, y_pred)\n",
    "print(\"Mean Squared Error:\", mse)"
   ]
  },
  {
   "cell_type": "code",
   "execution_count": 66,
   "id": "9b8515c1",
   "metadata": {},
   "outputs": [
    {
     "name": "stdout",
     "output_type": "stream",
     "text": [
      "(10565, 74)\n",
      "(0,)\n"
     ]
    }
   ],
   "source": [
    "print(X_train_normalized.shape)\n",
    "print(y_train.shape)"
   ]
  },
  {
   "cell_type": "code",
   "execution_count": null,
   "id": "240676d4",
   "metadata": {},
   "outputs": [],
   "source": []
  }
 ],
 "metadata": {
  "kernelspec": {
   "display_name": "Python 3 (ipykernel)",
   "language": "python",
   "name": "python3"
  },
  "language_info": {
   "codemirror_mode": {
    "name": "ipython",
    "version": 3
   },
   "file_extension": ".py",
   "mimetype": "text/x-python",
   "name": "python",
   "nbconvert_exporter": "python",
   "pygments_lexer": "ipython3",
   "version": "3.9.13"
  }
 },
 "nbformat": 4,
 "nbformat_minor": 5
}
